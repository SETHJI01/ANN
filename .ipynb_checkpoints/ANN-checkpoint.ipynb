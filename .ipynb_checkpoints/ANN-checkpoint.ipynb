{
 "cells": [
  {
   "cell_type": "code",
   "execution_count": 1,
   "id": "173d8619",
   "metadata": {},
   "outputs": [],
   "source": [
    "import numpy as np\n",
    "import matplotlib.pyplot as plt\n",
    "import pandas as pd\n",
    "import tensorflow as tf"
   ]
  },
  {
   "cell_type": "markdown",
   "id": "638a17c8",
   "metadata": {},
   "source": [
    "#### Importing the dataset"
   ]
  },
  {
   "cell_type": "code",
   "execution_count": 2,
   "id": "291e2191",
   "metadata": {},
   "outputs": [
    {
     "data": {
      "text/html": [
       "<div>\n",
       "<style scoped>\n",
       "    .dataframe tbody tr th:only-of-type {\n",
       "        vertical-align: middle;\n",
       "    }\n",
       "\n",
       "    .dataframe tbody tr th {\n",
       "        vertical-align: top;\n",
       "    }\n",
       "\n",
       "    .dataframe thead th {\n",
       "        text-align: right;\n",
       "    }\n",
       "</style>\n",
       "<table border=\"1\" class=\"dataframe\">\n",
       "  <thead>\n",
       "    <tr style=\"text-align: right;\">\n",
       "      <th></th>\n",
       "      <th>RowNumber</th>\n",
       "      <th>CustomerId</th>\n",
       "      <th>Surname</th>\n",
       "      <th>CreditScore</th>\n",
       "      <th>Geography</th>\n",
       "      <th>Gender</th>\n",
       "      <th>Age</th>\n",
       "      <th>Tenure</th>\n",
       "      <th>Balance</th>\n",
       "      <th>NumOfProducts</th>\n",
       "      <th>HasCrCard</th>\n",
       "      <th>IsActiveMember</th>\n",
       "      <th>EstimatedSalary</th>\n",
       "      <th>Exited</th>\n",
       "    </tr>\n",
       "  </thead>\n",
       "  <tbody>\n",
       "    <tr>\n",
       "      <th>0</th>\n",
       "      <td>1</td>\n",
       "      <td>15634602</td>\n",
       "      <td>Hargrave</td>\n",
       "      <td>619</td>\n",
       "      <td>France</td>\n",
       "      <td>Female</td>\n",
       "      <td>42</td>\n",
       "      <td>2</td>\n",
       "      <td>0.00</td>\n",
       "      <td>1</td>\n",
       "      <td>1</td>\n",
       "      <td>1</td>\n",
       "      <td>101348.88</td>\n",
       "      <td>1</td>\n",
       "    </tr>\n",
       "    <tr>\n",
       "      <th>1</th>\n",
       "      <td>2</td>\n",
       "      <td>15647311</td>\n",
       "      <td>Hill</td>\n",
       "      <td>608</td>\n",
       "      <td>Spain</td>\n",
       "      <td>Female</td>\n",
       "      <td>41</td>\n",
       "      <td>1</td>\n",
       "      <td>83807.86</td>\n",
       "      <td>1</td>\n",
       "      <td>0</td>\n",
       "      <td>1</td>\n",
       "      <td>112542.58</td>\n",
       "      <td>0</td>\n",
       "    </tr>\n",
       "    <tr>\n",
       "      <th>2</th>\n",
       "      <td>3</td>\n",
       "      <td>15619304</td>\n",
       "      <td>Onio</td>\n",
       "      <td>502</td>\n",
       "      <td>France</td>\n",
       "      <td>Female</td>\n",
       "      <td>42</td>\n",
       "      <td>8</td>\n",
       "      <td>159660.80</td>\n",
       "      <td>3</td>\n",
       "      <td>1</td>\n",
       "      <td>0</td>\n",
       "      <td>113931.57</td>\n",
       "      <td>1</td>\n",
       "    </tr>\n",
       "    <tr>\n",
       "      <th>3</th>\n",
       "      <td>4</td>\n",
       "      <td>15701354</td>\n",
       "      <td>Boni</td>\n",
       "      <td>699</td>\n",
       "      <td>France</td>\n",
       "      <td>Female</td>\n",
       "      <td>39</td>\n",
       "      <td>1</td>\n",
       "      <td>0.00</td>\n",
       "      <td>2</td>\n",
       "      <td>0</td>\n",
       "      <td>0</td>\n",
       "      <td>93826.63</td>\n",
       "      <td>0</td>\n",
       "    </tr>\n",
       "    <tr>\n",
       "      <th>4</th>\n",
       "      <td>5</td>\n",
       "      <td>15737888</td>\n",
       "      <td>Mitchell</td>\n",
       "      <td>850</td>\n",
       "      <td>Spain</td>\n",
       "      <td>Female</td>\n",
       "      <td>43</td>\n",
       "      <td>2</td>\n",
       "      <td>125510.82</td>\n",
       "      <td>1</td>\n",
       "      <td>1</td>\n",
       "      <td>1</td>\n",
       "      <td>79084.10</td>\n",
       "      <td>0</td>\n",
       "    </tr>\n",
       "  </tbody>\n",
       "</table>\n",
       "</div>"
      ],
      "text/plain": [
       "   RowNumber  CustomerId   Surname  CreditScore Geography  Gender  Age  \\\n",
       "0          1    15634602  Hargrave          619    France  Female   42   \n",
       "1          2    15647311      Hill          608     Spain  Female   41   \n",
       "2          3    15619304      Onio          502    France  Female   42   \n",
       "3          4    15701354      Boni          699    France  Female   39   \n",
       "4          5    15737888  Mitchell          850     Spain  Female   43   \n",
       "\n",
       "   Tenure    Balance  NumOfProducts  HasCrCard  IsActiveMember  \\\n",
       "0       2       0.00              1          1               1   \n",
       "1       1   83807.86              1          0               1   \n",
       "2       8  159660.80              3          1               0   \n",
       "3       1       0.00              2          0               0   \n",
       "4       2  125510.82              1          1               1   \n",
       "\n",
       "   EstimatedSalary  Exited  \n",
       "0        101348.88       1  \n",
       "1        112542.58       0  \n",
       "2        113931.57       1  \n",
       "3         93826.63       0  \n",
       "4         79084.10       0  "
      ]
     },
     "execution_count": 2,
     "metadata": {},
     "output_type": "execute_result"
    }
   ],
   "source": [
    "dataset=pd.read_csv('DataSet.csv')\n",
    "dataset.head()"
   ]
  },
  {
   "cell_type": "code",
   "execution_count": 3,
   "id": "cd2938d5",
   "metadata": {},
   "outputs": [],
   "source": [
    "X=dataset.iloc[:,3:-1].values\n",
    "Y=dataset.iloc[:,-1].values"
   ]
  },
  {
   "cell_type": "code",
   "execution_count": 4,
   "id": "caf0d8f4",
   "metadata": {},
   "outputs": [
    {
     "name": "stdout",
     "output_type": "stream",
     "text": [
      "[[619 'France' 'Female' ... 1 1 101348.88]\n",
      " [608 'Spain' 'Female' ... 0 1 112542.58]\n",
      " [502 'France' 'Female' ... 1 0 113931.57]\n",
      " ...\n",
      " [709 'France' 'Female' ... 0 1 42085.58]\n",
      " [772 'Germany' 'Male' ... 1 0 92888.52]\n",
      " [792 'France' 'Female' ... 1 0 38190.78]]\n"
     ]
    }
   ],
   "source": [
    "print(X)"
   ]
  },
  {
   "cell_type": "code",
   "execution_count": 5,
   "id": "b56b6945",
   "metadata": {},
   "outputs": [
    {
     "name": "stdout",
     "output_type": "stream",
     "text": [
      "[1 0 1 ... 1 1 0]\n"
     ]
    }
   ],
   "source": [
    "print(Y)"
   ]
  },
  {
   "cell_type": "markdown",
   "id": "7269c456",
   "metadata": {},
   "source": [
    "#### Encoding the Categorical Data"
   ]
  },
  {
   "cell_type": "code",
   "execution_count": 6,
   "id": "18a2333b",
   "metadata": {},
   "outputs": [],
   "source": [
    "from sklearn.preprocessing import LabelEncoder\n",
    "labelencoder_X2=LabelEncoder()\n",
    "X[:,2]=labelencoder_X2.fit_transform(X[:,2])\n",
    "from sklearn.preprocessing import OneHotEncoder\n",
    "from sklearn.compose import ColumnTransformer\n",
    "ct = ColumnTransformer(transformers=[('encoder', OneHotEncoder(), [1])], remainder='passthrough')\n",
    "X=np.array(ct.fit_transform(X))"
   ]
  },
  {
   "cell_type": "code",
   "execution_count": 7,
   "id": "aeb7f071",
   "metadata": {},
   "outputs": [
    {
     "data": {
      "text/plain": [
       "array([[1.0, 0.0, 0.0, ..., 1, 1, 101348.88],\n",
       "       [0.0, 0.0, 1.0, ..., 0, 1, 112542.58],\n",
       "       [1.0, 0.0, 0.0, ..., 1, 0, 113931.57],\n",
       "       ...,\n",
       "       [1.0, 0.0, 0.0, ..., 0, 1, 42085.58],\n",
       "       [0.0, 1.0, 0.0, ..., 1, 0, 92888.52],\n",
       "       [1.0, 0.0, 0.0, ..., 1, 0, 38190.78]], dtype=object)"
      ]
     },
     "execution_count": 7,
     "metadata": {},
     "output_type": "execute_result"
    }
   ],
   "source": [
    "X"
   ]
  },
  {
   "cell_type": "markdown",
   "id": "58dc6094",
   "metadata": {},
   "source": [
    "#### Splitting the dataset into the Training and Testing Set"
   ]
  },
  {
   "cell_type": "code",
   "execution_count": 8,
   "id": "84cbaac5",
   "metadata": {},
   "outputs": [],
   "source": [
    "from sklearn.model_selection import train_test_split\n",
    "X_train,X_test,Y_train,Y_test=train_test_split(X,Y,test_size=0.2,random_state=0)"
   ]
  },
  {
   "cell_type": "markdown",
   "id": "dfe5f22d",
   "metadata": {},
   "source": [
    "#### Feature Scaling"
   ]
  },
  {
   "cell_type": "code",
   "execution_count": 9,
   "id": "4bac0207",
   "metadata": {},
   "outputs": [],
   "source": [
    "from sklearn.preprocessing import StandardScaler\n",
    "sc=StandardScaler()\n",
    "X_train=sc.fit_transform(X_train)\n",
    "X_test=sc.transform(X_test)"
   ]
  },
  {
   "cell_type": "markdown",
   "id": "5500910d",
   "metadata": {},
   "source": [
    "#### Initialising the ANN"
   ]
  },
  {
   "cell_type": "code",
   "execution_count": 10,
   "id": "8cd74f28",
   "metadata": {},
   "outputs": [],
   "source": [
    "classifier=tf.keras.models.Sequential()"
   ]
  },
  {
   "cell_type": "markdown",
   "id": "cbbc2e22",
   "metadata": {},
   "source": [
    "#### Adding the input and the First Hidden Layer "
   ]
  },
  {
   "cell_type": "code",
   "execution_count": 11,
   "id": "2d2feca7",
   "metadata": {},
   "outputs": [],
   "source": [
    "classifier.add(tf.keras.layers.Dense(units=6, activation = 'relu'))"
   ]
  },
  {
   "cell_type": "code",
   "execution_count": 12,
   "id": "e6ad30ff",
   "metadata": {},
   "outputs": [],
   "source": [
    "classifier.add(tf.keras.layers.Dense(units = 6 ,activation = 'relu'))"
   ]
  },
  {
   "cell_type": "markdown",
   "id": "525b3fef",
   "metadata": {},
   "source": [
    "#### Adding the Output Layer"
   ]
  },
  {
   "cell_type": "code",
   "execution_count": 13,
   "id": "219be12a",
   "metadata": {},
   "outputs": [],
   "source": [
    "classifier.add(tf.keras.layers.Dense(units = 1 , activation = 'sigmoid'))"
   ]
  },
  {
   "cell_type": "markdown",
   "id": "b397e4e8",
   "metadata": {},
   "source": [
    "#### Compiling The ANN "
   ]
  },
  {
   "cell_type": "code",
   "execution_count": 14,
   "id": "027a0612",
   "metadata": {},
   "outputs": [],
   "source": [
    "classifier.compile(optimizer='adam',loss='binary_crossentropy',metrics=['accuracy'])"
   ]
  },
  {
   "cell_type": "markdown",
   "id": "ec0aa521",
   "metadata": {},
   "source": [
    "#### Fitting the ANN to the Training set"
   ]
  },
  {
   "cell_type": "code",
   "execution_count": 15,
   "id": "e918a2ab",
   "metadata": {},
   "outputs": [
    {
     "name": "stdout",
     "output_type": "stream",
     "text": [
      "Epoch 1/100\n",
      "800/800 [==============================] - 1s 487us/step - loss: 0.5385 - accuracy: 0.7811\n",
      "Epoch 2/100\n",
      "800/800 [==============================] - 0s 504us/step - loss: 0.4547 - accuracy: 0.8055\n",
      "Epoch 3/100\n",
      "800/800 [==============================] - 0s 504us/step - loss: 0.4278 - accuracy: 0.8160\n",
      "Epoch 4/100\n",
      "800/800 [==============================] - 0s 523us/step - loss: 0.4139 - accuracy: 0.8229\n",
      "Epoch 5/100\n",
      "800/800 [==============================] - 0s 495us/step - loss: 0.4032 - accuracy: 0.8290\n",
      "Epoch 6/100\n",
      "800/800 [==============================] - 0s 544us/step - loss: 0.3926 - accuracy: 0.8345\n",
      "Epoch 7/100\n",
      "800/800 [==============================] - 0s 491us/step - loss: 0.3828 - accuracy: 0.8409\n",
      "Epoch 8/100\n",
      "800/800 [==============================] - 0s 495us/step - loss: 0.3734 - accuracy: 0.8461\n",
      "Epoch 9/100\n",
      "800/800 [==============================] - 0s 494us/step - loss: 0.3650 - accuracy: 0.8503\n",
      "Epoch 10/100\n",
      "800/800 [==============================] - 0s 494us/step - loss: 0.3588 - accuracy: 0.8529\n",
      "Epoch 11/100\n",
      "800/800 [==============================] - 0s 496us/step - loss: 0.3548 - accuracy: 0.8539\n",
      "Epoch 12/100\n",
      "800/800 [==============================] - 0s 546us/step - loss: 0.3512 - accuracy: 0.8553\n",
      "Epoch 13/100\n",
      "800/800 [==============================] - 0s 564us/step - loss: 0.3494 - accuracy: 0.8561\n",
      "Epoch 14/100\n",
      "800/800 [==============================] - 0s 523us/step - loss: 0.3482 - accuracy: 0.8551\n",
      "Epoch 15/100\n",
      "800/800 [==============================] - 0s 500us/step - loss: 0.3462 - accuracy: 0.8566\n",
      "Epoch 16/100\n",
      "800/800 [==============================] - 0s 546us/step - loss: 0.3458 - accuracy: 0.8562\n",
      "Epoch 17/100\n",
      "800/800 [==============================] - 0s 517us/step - loss: 0.3447 - accuracy: 0.8576\n",
      "Epoch 18/100\n",
      "800/800 [==============================] - 0s 523us/step - loss: 0.3438 - accuracy: 0.8585\n",
      "Epoch 19/100\n",
      "800/800 [==============================] - 0s 490us/step - loss: 0.3434 - accuracy: 0.8587\n",
      "Epoch 20/100\n",
      "800/800 [==============================] - 0s 489us/step - loss: 0.3426 - accuracy: 0.8620\n",
      "Epoch 21/100\n",
      "800/800 [==============================] - 0s 489us/step - loss: 0.3422 - accuracy: 0.8605\n",
      "Epoch 22/100\n",
      "800/800 [==============================] - 0s 525us/step - loss: 0.3421 - accuracy: 0.8614\n",
      "Epoch 23/100\n",
      "800/800 [==============================] - 0s 534us/step - loss: 0.3409 - accuracy: 0.8604\n",
      "Epoch 24/100\n",
      "800/800 [==============================] - 0s 497us/step - loss: 0.3408 - accuracy: 0.8619\n",
      "Epoch 25/100\n",
      "800/800 [==============================] - 0s 536us/step - loss: 0.3405 - accuracy: 0.8605\n",
      "Epoch 26/100\n",
      "800/800 [==============================] - 0s 541us/step - loss: 0.3398 - accuracy: 0.8616\n",
      "Epoch 27/100\n",
      "800/800 [==============================] - 0s 496us/step - loss: 0.3401 - accuracy: 0.8600\n",
      "Epoch 28/100\n",
      "800/800 [==============================] - 0s 537us/step - loss: 0.3390 - accuracy: 0.8614\n",
      "Epoch 29/100\n",
      "800/800 [==============================] - 0s 497us/step - loss: 0.3387 - accuracy: 0.8618\n",
      "Epoch 30/100\n",
      "800/800 [==============================] - 0s 506us/step - loss: 0.3389 - accuracy: 0.8606\n",
      "Epoch 31/100\n",
      "800/800 [==============================] - 0s 525us/step - loss: 0.3390 - accuracy: 0.8615\n",
      "Epoch 32/100\n",
      "800/800 [==============================] - 0s 500us/step - loss: 0.3384 - accuracy: 0.8618\n",
      "Epoch 33/100\n",
      "800/800 [==============================] - 0s 545us/step - loss: 0.3378 - accuracy: 0.8626\n",
      "Epoch 34/100\n",
      "800/800 [==============================] - 0s 508us/step - loss: 0.3377 - accuracy: 0.8619\n",
      "Epoch 35/100\n",
      "800/800 [==============================] - 0s 494us/step - loss: 0.3374 - accuracy: 0.8627\n",
      "Epoch 36/100\n",
      "800/800 [==============================] - 0s 483us/step - loss: 0.3369 - accuracy: 0.8620\n",
      "Epoch 37/100\n",
      "800/800 [==============================] - 0s 482us/step - loss: 0.3373 - accuracy: 0.8624\n",
      "Epoch 38/100\n",
      "800/800 [==============================] - 0s 485us/step - loss: 0.3371 - accuracy: 0.8618\n",
      "Epoch 39/100\n",
      "800/800 [==============================] - 0s 576us/step - loss: 0.3365 - accuracy: 0.8629\n",
      "Epoch 40/100\n",
      "800/800 [==============================] - 0s 526us/step - loss: 0.3365 - accuracy: 0.8630\n",
      "Epoch 41/100\n",
      "800/800 [==============================] - 0s 485us/step - loss: 0.3368 - accuracy: 0.8618\n",
      "Epoch 42/100\n",
      "800/800 [==============================] - 0s 488us/step - loss: 0.3363 - accuracy: 0.8622\n",
      "Epoch 43/100\n",
      "800/800 [==============================] - 0s 483us/step - loss: 0.3362 - accuracy: 0.8619\n",
      "Epoch 44/100\n",
      "800/800 [==============================] - 0s 487us/step - loss: 0.3358 - accuracy: 0.8635\n",
      "Epoch 45/100\n",
      "800/800 [==============================] - 0s 487us/step - loss: 0.3355 - accuracy: 0.8641\n",
      "Epoch 46/100\n",
      "800/800 [==============================] - 0s 487us/step - loss: 0.3358 - accuracy: 0.8633\n",
      "Epoch 47/100\n",
      "800/800 [==============================] - 0s 487us/step - loss: 0.3357 - accuracy: 0.8605\n",
      "Epoch 48/100\n",
      "800/800 [==============================] - 0s 500us/step - loss: 0.3362 - accuracy: 0.8629\n",
      "Epoch 49/100\n",
      "800/800 [==============================] - 0s 500us/step - loss: 0.3351 - accuracy: 0.8631\n",
      "Epoch 50/100\n",
      "800/800 [==============================] - 0s 503us/step - loss: 0.3356 - accuracy: 0.8631\n",
      "Epoch 51/100\n",
      "800/800 [==============================] - 0s 501us/step - loss: 0.3351 - accuracy: 0.8636\n",
      "Epoch 52/100\n",
      "800/800 [==============================] - 0s 573us/step - loss: 0.3349 - accuracy: 0.8619\n",
      "Epoch 53/100\n",
      "800/800 [==============================] - 0s 516us/step - loss: 0.3354 - accuracy: 0.8634\n",
      "Epoch 54/100\n",
      "800/800 [==============================] - 0s 482us/step - loss: 0.3351 - accuracy: 0.8625\n",
      "Epoch 55/100\n",
      "800/800 [==============================] - 0s 476us/step - loss: 0.3355 - accuracy: 0.8614\n",
      "Epoch 56/100\n",
      "800/800 [==============================] - 0s 478us/step - loss: 0.3350 - accuracy: 0.8634\n",
      "Epoch 57/100\n",
      "800/800 [==============================] - 0s 488us/step - loss: 0.3345 - accuracy: 0.8614\n",
      "Epoch 58/100\n",
      "800/800 [==============================] - 0s 555us/step - loss: 0.3343 - accuracy: 0.8626\n",
      "Epoch 59/100\n",
      "800/800 [==============================] - 0s 531us/step - loss: 0.3349 - accuracy: 0.8633\n",
      "Epoch 60/100\n",
      "800/800 [==============================] - 0s 505us/step - loss: 0.3344 - accuracy: 0.8634\n",
      "Epoch 61/100\n",
      "800/800 [==============================] - 0s 504us/step - loss: 0.3346 - accuracy: 0.8643\n",
      "Epoch 62/100\n",
      "800/800 [==============================] - 0s 527us/step - loss: 0.3344 - accuracy: 0.8630\n",
      "Epoch 63/100\n",
      "800/800 [==============================] - 0s 540us/step - loss: 0.3339 - accuracy: 0.8616\n",
      "Epoch 64/100\n",
      "800/800 [==============================] - 0s 500us/step - loss: 0.3348 - accuracy: 0.8630\n",
      "Epoch 65/100\n",
      "800/800 [==============================] - 0s 509us/step - loss: 0.3343 - accuracy: 0.8637\n",
      "Epoch 66/100\n",
      "800/800 [==============================] - 0s 502us/step - loss: 0.3345 - accuracy: 0.8640\n",
      "Epoch 67/100\n",
      "800/800 [==============================] - 0s 496us/step - loss: 0.3341 - accuracy: 0.8641\n",
      "Epoch 68/100\n",
      "800/800 [==============================] - 0s 492us/step - loss: 0.3337 - accuracy: 0.8643\n",
      "Epoch 69/100\n",
      "800/800 [==============================] - 0s 506us/step - loss: 0.3337 - accuracy: 0.8648\n",
      "Epoch 70/100\n",
      "800/800 [==============================] - 0s 513us/step - loss: 0.3343 - accuracy: 0.8626\n",
      "Epoch 71/100\n",
      "800/800 [==============================] - 0s 527us/step - loss: 0.3340 - accuracy: 0.8655\n",
      "Epoch 72/100\n",
      "800/800 [==============================] - 0s 570us/step - loss: 0.3342 - accuracy: 0.8641\n",
      "Epoch 73/100\n",
      "800/800 [==============================] - 0s 506us/step - loss: 0.3335 - accuracy: 0.8641\n",
      "Epoch 74/100\n",
      "800/800 [==============================] - 0s 544us/step - loss: 0.3339 - accuracy: 0.8644\n",
      "Epoch 75/100\n",
      "800/800 [==============================] - 0s 542us/step - loss: 0.3337 - accuracy: 0.8635\n",
      "Epoch 76/100\n",
      "800/800 [==============================] - 0s 547us/step - loss: 0.3337 - accuracy: 0.8624\n",
      "Epoch 77/100\n",
      "800/800 [==============================] - 0s 532us/step - loss: 0.3338 - accuracy: 0.8633\n",
      "Epoch 78/100\n",
      "800/800 [==============================] - 0s 526us/step - loss: 0.3336 - accuracy: 0.8644\n",
      "Epoch 79/100\n"
     ]
    },
    {
     "name": "stdout",
     "output_type": "stream",
     "text": [
      "800/800 [==============================] - 0s 503us/step - loss: 0.3336 - accuracy: 0.8646\n",
      "Epoch 80/100\n",
      "800/800 [==============================] - 0s 486us/step - loss: 0.3333 - accuracy: 0.8633\n",
      "Epoch 81/100\n",
      "800/800 [==============================] - 0s 529us/step - loss: 0.3337 - accuracy: 0.8646\n",
      "Epoch 82/100\n",
      "800/800 [==============================] - 0s 531us/step - loss: 0.3328 - accuracy: 0.8649\n",
      "Epoch 83/100\n",
      "800/800 [==============================] - 0s 496us/step - loss: 0.3333 - accuracy: 0.8641\n",
      "Epoch 84/100\n",
      "800/800 [==============================] - 0s 493us/step - loss: 0.3337 - accuracy: 0.8630\n",
      "Epoch 85/100\n",
      "800/800 [==============================] - 0s 502us/step - loss: 0.3328 - accuracy: 0.8645\n",
      "Epoch 86/100\n",
      "800/800 [==============================] - 0s 530us/step - loss: 0.3341 - accuracy: 0.8641\n",
      "Epoch 87/100\n",
      "800/800 [==============================] - 0s 536us/step - loss: 0.3331 - accuracy: 0.8626\n",
      "Epoch 88/100\n",
      "800/800 [==============================] - 0s 514us/step - loss: 0.3330 - accuracy: 0.8640\n",
      "Epoch 89/100\n",
      "800/800 [==============================] - 0s 508us/step - loss: 0.3331 - accuracy: 0.8636\n",
      "Epoch 90/100\n",
      "800/800 [==============================] - 0s 522us/step - loss: 0.3336 - accuracy: 0.8618\n",
      "Epoch 91/100\n",
      "800/800 [==============================] - 0s 504us/step - loss: 0.3331 - accuracy: 0.8645\n",
      "Epoch 92/100\n",
      "800/800 [==============================] - 0s 536us/step - loss: 0.3335 - accuracy: 0.8637\n",
      "Epoch 93/100\n",
      "800/800 [==============================] - 0s 518us/step - loss: 0.3330 - accuracy: 0.8660\n",
      "Epoch 94/100\n",
      "800/800 [==============================] - 0s 533us/step - loss: 0.3329 - accuracy: 0.8637\n",
      "Epoch 95/100\n",
      "800/800 [==============================] - 0s 528us/step - loss: 0.3328 - accuracy: 0.8637\n",
      "Epoch 96/100\n",
      "800/800 [==============================] - 0s 528us/step - loss: 0.3329 - accuracy: 0.8637\n",
      "Epoch 97/100\n",
      "800/800 [==============================] - 0s 517us/step - loss: 0.3332 - accuracy: 0.8637\n",
      "Epoch 98/100\n",
      "800/800 [==============================] - 0s 522us/step - loss: 0.3328 - accuracy: 0.8635\n",
      "Epoch 99/100\n",
      "800/800 [==============================] - 0s 530us/step - loss: 0.3330 - accuracy: 0.8630\n",
      "Epoch 100/100\n",
      "800/800 [==============================] - 0s 509us/step - loss: 0.3326 - accuracy: 0.8631\n"
     ]
    },
    {
     "data": {
      "text/plain": [
       "<tensorflow.python.keras.callbacks.History at 0x7fa52079d3d0>"
      ]
     },
     "execution_count": 15,
     "metadata": {},
     "output_type": "execute_result"
    }
   ],
   "source": [
    "classifier.fit(X_train,Y_train,batch_size=10,epochs=100)"
   ]
  },
  {
   "cell_type": "markdown",
   "id": "48da0a10",
   "metadata": {},
   "source": [
    "#### Predicting the Test set results"
   ]
  },
  {
   "cell_type": "code",
   "execution_count": 16,
   "id": "0f1f355f",
   "metadata": {},
   "outputs": [],
   "source": [
    "Y_pred=classifier.predict(X_test)\n",
    "Y_pred=(Y_pred>0.5)"
   ]
  },
  {
   "cell_type": "markdown",
   "id": "837517fb",
   "metadata": {},
   "source": [
    "### Predicting the result of a single observation"
   ]
  },
  {
   "cell_type": "markdown",
   "id": "092c67ee",
   "metadata": {},
   "source": [
    "**Homework**\n",
    "\n",
    "Use our ANN model to predict if the customer with the following informations will leave the bank: \n",
    "\n",
    "Geography: France\n",
    "\n",
    "Credit Score: 600\n",
    "\n",
    "Gender: Male\n",
    "\n",
    "Age: 40 years old\n",
    "\n",
    "Tenure: 3 years\n",
    "\n",
    "Balance: \\$ 60000\n",
    "\n",
    "Number of Products: 2\n",
    "\n",
    "Does this customer have a credit card ? Yes\n",
    "\n",
    "Is this customer an Active Member: Yes\n",
    "\n",
    "Estimated Salary: \\$ 50000\n",
    "\n",
    "So, should we say goodbye to that customer ?"
   ]
  },
  {
   "cell_type": "code",
   "execution_count": 17,
   "id": "7f757f34",
   "metadata": {},
   "outputs": [
    {
     "data": {
      "text/plain": [
       "array([[False]])"
      ]
     },
     "execution_count": 17,
     "metadata": {},
     "output_type": "execute_result"
    }
   ],
   "source": [
    "new_prediction=classifier.predict(sc.transform([[1, 0, 0, 600, 1, 40, 3, 60000, 2, 1, 1, 50000]]))\n",
    "new_prediction=(new_prediction>0.5)\n",
    "new_prediction"
   ]
  },
  {
   "cell_type": "markdown",
   "id": "06ad023c",
   "metadata": {},
   "source": [
    "#### Making the Confusion Matrix"
   ]
  },
  {
   "cell_type": "code",
   "execution_count": 19,
   "id": "a2946917",
   "metadata": {},
   "outputs": [
    {
     "name": "stdout",
     "output_type": "stream",
     "text": [
      "[[1507   88]\n",
      " [ 189  216]]\n"
     ]
    },
    {
     "data": {
      "text/plain": [
       "0.8615"
      ]
     },
     "execution_count": 19,
     "metadata": {},
     "output_type": "execute_result"
    }
   ],
   "source": [
    "from sklearn.metrics import confusion_matrix,accuracy_score\n",
    "cm=confusion_matrix(Y_test,Y_pred) \n",
    "print(cm)\n",
    "accuracy_score(Y_test, Y_pred)"
   ]
  }
 ],
 "metadata": {
  "kernelspec": {
   "display_name": "Python 3",
   "language": "python",
   "name": "python3"
  },
  "language_info": {
   "codemirror_mode": {
    "name": "ipython",
    "version": 3
   },
   "file_extension": ".py",
   "mimetype": "text/x-python",
   "name": "python",
   "nbconvert_exporter": "python",
   "pygments_lexer": "ipython3",
   "version": "3.8.10"
  }
 },
 "nbformat": 4,
 "nbformat_minor": 5
}
