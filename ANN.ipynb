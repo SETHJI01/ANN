{
 "cells": [
  {
   "cell_type": "code",
   "execution_count": 35,
   "id": "173d8619",
   "metadata": {},
   "outputs": [],
   "source": [
    "import numpy as np\n",
    "import matplotlib.pyplot as plt\n",
    "import pandas as pd\n",
    "import tensorflow as tf"
   ]
  },
  {
   "cell_type": "markdown",
   "id": "638a17c8",
   "metadata": {},
   "source": [
    "#### Importing the dataset"
   ]
  },
  {
   "cell_type": "code",
   "execution_count": 36,
   "id": "291e2191",
   "metadata": {},
   "outputs": [
    {
     "data": {
      "text/html": [
       "<div>\n",
       "<style scoped>\n",
       "    .dataframe tbody tr th:only-of-type {\n",
       "        vertical-align: middle;\n",
       "    }\n",
       "\n",
       "    .dataframe tbody tr th {\n",
       "        vertical-align: top;\n",
       "    }\n",
       "\n",
       "    .dataframe thead th {\n",
       "        text-align: right;\n",
       "    }\n",
       "</style>\n",
       "<table border=\"1\" class=\"dataframe\">\n",
       "  <thead>\n",
       "    <tr style=\"text-align: right;\">\n",
       "      <th></th>\n",
       "      <th>RowNumber</th>\n",
       "      <th>CustomerId</th>\n",
       "      <th>Surname</th>\n",
       "      <th>CreditScore</th>\n",
       "      <th>Geography</th>\n",
       "      <th>Gender</th>\n",
       "      <th>Age</th>\n",
       "      <th>Tenure</th>\n",
       "      <th>Balance</th>\n",
       "      <th>NumOfProducts</th>\n",
       "      <th>HasCrCard</th>\n",
       "      <th>IsActiveMember</th>\n",
       "      <th>EstimatedSalary</th>\n",
       "      <th>Exited</th>\n",
       "    </tr>\n",
       "  </thead>\n",
       "  <tbody>\n",
       "    <tr>\n",
       "      <th>0</th>\n",
       "      <td>1</td>\n",
       "      <td>15634602</td>\n",
       "      <td>Hargrave</td>\n",
       "      <td>619</td>\n",
       "      <td>France</td>\n",
       "      <td>Female</td>\n",
       "      <td>42</td>\n",
       "      <td>2</td>\n",
       "      <td>0.00</td>\n",
       "      <td>1</td>\n",
       "      <td>1</td>\n",
       "      <td>1</td>\n",
       "      <td>101348.88</td>\n",
       "      <td>1</td>\n",
       "    </tr>\n",
       "    <tr>\n",
       "      <th>1</th>\n",
       "      <td>2</td>\n",
       "      <td>15647311</td>\n",
       "      <td>Hill</td>\n",
       "      <td>608</td>\n",
       "      <td>Spain</td>\n",
       "      <td>Female</td>\n",
       "      <td>41</td>\n",
       "      <td>1</td>\n",
       "      <td>83807.86</td>\n",
       "      <td>1</td>\n",
       "      <td>0</td>\n",
       "      <td>1</td>\n",
       "      <td>112542.58</td>\n",
       "      <td>0</td>\n",
       "    </tr>\n",
       "    <tr>\n",
       "      <th>2</th>\n",
       "      <td>3</td>\n",
       "      <td>15619304</td>\n",
       "      <td>Onio</td>\n",
       "      <td>502</td>\n",
       "      <td>France</td>\n",
       "      <td>Female</td>\n",
       "      <td>42</td>\n",
       "      <td>8</td>\n",
       "      <td>159660.80</td>\n",
       "      <td>3</td>\n",
       "      <td>1</td>\n",
       "      <td>0</td>\n",
       "      <td>113931.57</td>\n",
       "      <td>1</td>\n",
       "    </tr>\n",
       "    <tr>\n",
       "      <th>3</th>\n",
       "      <td>4</td>\n",
       "      <td>15701354</td>\n",
       "      <td>Boni</td>\n",
       "      <td>699</td>\n",
       "      <td>France</td>\n",
       "      <td>Female</td>\n",
       "      <td>39</td>\n",
       "      <td>1</td>\n",
       "      <td>0.00</td>\n",
       "      <td>2</td>\n",
       "      <td>0</td>\n",
       "      <td>0</td>\n",
       "      <td>93826.63</td>\n",
       "      <td>0</td>\n",
       "    </tr>\n",
       "    <tr>\n",
       "      <th>4</th>\n",
       "      <td>5</td>\n",
       "      <td>15737888</td>\n",
       "      <td>Mitchell</td>\n",
       "      <td>850</td>\n",
       "      <td>Spain</td>\n",
       "      <td>Female</td>\n",
       "      <td>43</td>\n",
       "      <td>2</td>\n",
       "      <td>125510.82</td>\n",
       "      <td>1</td>\n",
       "      <td>1</td>\n",
       "      <td>1</td>\n",
       "      <td>79084.10</td>\n",
       "      <td>0</td>\n",
       "    </tr>\n",
       "  </tbody>\n",
       "</table>\n",
       "</div>"
      ],
      "text/plain": [
       "   RowNumber  CustomerId   Surname  CreditScore Geography  Gender  Age  \\\n",
       "0          1    15634602  Hargrave          619    France  Female   42   \n",
       "1          2    15647311      Hill          608     Spain  Female   41   \n",
       "2          3    15619304      Onio          502    France  Female   42   \n",
       "3          4    15701354      Boni          699    France  Female   39   \n",
       "4          5    15737888  Mitchell          850     Spain  Female   43   \n",
       "\n",
       "   Tenure    Balance  NumOfProducts  HasCrCard  IsActiveMember  \\\n",
       "0       2       0.00              1          1               1   \n",
       "1       1   83807.86              1          0               1   \n",
       "2       8  159660.80              3          1               0   \n",
       "3       1       0.00              2          0               0   \n",
       "4       2  125510.82              1          1               1   \n",
       "\n",
       "   EstimatedSalary  Exited  \n",
       "0        101348.88       1  \n",
       "1        112542.58       0  \n",
       "2        113931.57       1  \n",
       "3         93826.63       0  \n",
       "4         79084.10       0  "
      ]
     },
     "execution_count": 36,
     "metadata": {},
     "output_type": "execute_result"
    }
   ],
   "source": [
    "dataset=pd.read_csv('DataSet.csv')\n",
    "dataset.head()"
   ]
  },
  {
   "cell_type": "code",
   "execution_count": 37,
   "id": "cd2938d5",
   "metadata": {},
   "outputs": [],
   "source": [
    "X=dataset.iloc[:,3:-1].values\n",
    "Y=dataset.iloc[:,-1].values"
   ]
  },
  {
   "cell_type": "code",
   "execution_count": 38,
   "id": "caf0d8f4",
   "metadata": {},
   "outputs": [
    {
     "name": "stdout",
     "output_type": "stream",
     "text": [
      "[[619 'France' 'Female' ... 1 1 101348.88]\n",
      " [608 'Spain' 'Female' ... 0 1 112542.58]\n",
      " [502 'France' 'Female' ... 1 0 113931.57]\n",
      " ...\n",
      " [709 'France' 'Female' ... 0 1 42085.58]\n",
      " [772 'Germany' 'Male' ... 1 0 92888.52]\n",
      " [792 'France' 'Female' ... 1 0 38190.78]]\n"
     ]
    }
   ],
   "source": [
    "print(X)"
   ]
  },
  {
   "cell_type": "code",
   "execution_count": 39,
   "id": "b56b6945",
   "metadata": {},
   "outputs": [
    {
     "name": "stdout",
     "output_type": "stream",
     "text": [
      "[1 0 1 ... 1 1 0]\n"
     ]
    }
   ],
   "source": [
    "print(Y)"
   ]
  },
  {
   "cell_type": "markdown",
   "id": "7269c456",
   "metadata": {},
   "source": [
    "#### Encoding the Categorical Data"
   ]
  },
  {
   "cell_type": "code",
   "execution_count": 40,
   "id": "18a2333b",
   "metadata": {},
   "outputs": [],
   "source": [
    "from sklearn.preprocessing import LabelEncoder\n",
    "labelencoder_X2=LabelEncoder()\n",
    "X[:,2]=labelencoder_X2.fit_transform(X[:,2])\n",
    "from sklearn.preprocessing import OneHotEncoder\n",
    "from sklearn.compose import ColumnTransformer\n",
    "ct = ColumnTransformer(transformers=[('encoder', OneHotEncoder(), [1])], remainder='passthrough')\n",
    "X=np.array(ct.fit_transform(X))"
   ]
  },
  {
   "cell_type": "code",
   "execution_count": 41,
   "id": "aeb7f071",
   "metadata": {},
   "outputs": [
    {
     "data": {
      "text/plain": [
       "array([[1.0, 0.0, 0.0, ..., 1, 1, 101348.88],\n",
       "       [0.0, 0.0, 1.0, ..., 0, 1, 112542.58],\n",
       "       [1.0, 0.0, 0.0, ..., 1, 0, 113931.57],\n",
       "       ...,\n",
       "       [1.0, 0.0, 0.0, ..., 0, 1, 42085.58],\n",
       "       [0.0, 1.0, 0.0, ..., 1, 0, 92888.52],\n",
       "       [1.0, 0.0, 0.0, ..., 1, 0, 38190.78]], dtype=object)"
      ]
     },
     "execution_count": 41,
     "metadata": {},
     "output_type": "execute_result"
    }
   ],
   "source": [
    "X"
   ]
  },
  {
   "cell_type": "markdown",
   "id": "58dc6094",
   "metadata": {},
   "source": [
    "#### Splitting the dataset into the Training and Testing Set"
   ]
  },
  {
   "cell_type": "code",
   "execution_count": 42,
   "id": "84cbaac5",
   "metadata": {},
   "outputs": [],
   "source": [
    "from sklearn.model_selection import train_test_split\n",
    "X_train,X_test,Y_train,Y_test=train_test_split(X,Y,test_size=0.2,random_state=0)"
   ]
  },
  {
   "cell_type": "markdown",
   "id": "dfe5f22d",
   "metadata": {},
   "source": [
    "#### Feature Scaling"
   ]
  },
  {
   "cell_type": "code",
   "execution_count": 43,
   "id": "4bac0207",
   "metadata": {},
   "outputs": [],
   "source": [
    "from sklearn.preprocessing import StandardScaler\n",
    "sc=StandardScaler()\n",
    "X_train=sc.fit_transform(X_train)\n",
    "X_test=sc.transform(X_test)"
   ]
  },
  {
   "cell_type": "markdown",
   "id": "5500910d",
   "metadata": {},
   "source": [
    "#### Initialising the ANN"
   ]
  },
  {
   "cell_type": "code",
   "execution_count": 44,
   "id": "8cd74f28",
   "metadata": {},
   "outputs": [],
   "source": [
    "classifier=tf.keras.models.Sequential()"
   ]
  },
  {
   "cell_type": "markdown",
   "id": "cbbc2e22",
   "metadata": {},
   "source": [
    "#### Adding the input and the First Hidden Layer "
   ]
  },
  {
   "cell_type": "code",
   "execution_count": 45,
   "id": "2d2feca7",
   "metadata": {},
   "outputs": [],
   "source": [
    "classifier.add(tf.keras.layers.Dense(units=6, activation = 'relu'))"
   ]
  },
  {
   "cell_type": "code",
   "execution_count": 46,
   "id": "e6ad30ff",
   "metadata": {},
   "outputs": [],
   "source": [
    "classifier.add(Dense(units = 6 ,activation = 'relu'))"
   ]
  },
  {
   "cell_type": "markdown",
   "id": "525b3fef",
   "metadata": {},
   "source": [
    "#### Adding the Output Layer"
   ]
  },
  {
   "cell_type": "code",
   "execution_count": 47,
   "id": "219be12a",
   "metadata": {},
   "outputs": [],
   "source": [
    "classifier.add(Dense(units = 1 , activation = 'sigmoid'))"
   ]
  },
  {
   "cell_type": "markdown",
   "id": "b397e4e8",
   "metadata": {},
   "source": [
    "#### Compiling The ANN "
   ]
  },
  {
   "cell_type": "code",
   "execution_count": 48,
   "id": "027a0612",
   "metadata": {},
   "outputs": [],
   "source": [
    "classifier.compile(optimizer='adam',loss='binary_crossentropy',metrics=['accuracy'])"
   ]
  },
  {
   "cell_type": "markdown",
   "id": "ec0aa521",
   "metadata": {},
   "source": [
    "#### Fitting the ANN to the Training set"
   ]
  },
  {
   "cell_type": "code",
   "execution_count": 49,
   "id": "e918a2ab",
   "metadata": {},
   "outputs": [
    {
     "name": "stdout",
     "output_type": "stream",
     "text": [
      "Epoch 1/100\n",
      "800/800 [==============================] - 1s 513us/step - loss: 0.4964 - accuracy: 0.7959\n",
      "Epoch 2/100\n",
      "800/800 [==============================] - 0s 528us/step - loss: 0.4364 - accuracy: 0.7960\n",
      "Epoch 3/100\n",
      "800/800 [==============================] - 0s 510us/step - loss: 0.4283 - accuracy: 0.8008\n",
      "Epoch 4/100\n",
      "800/800 [==============================] - 0s 511us/step - loss: 0.4220 - accuracy: 0.8150\n",
      "Epoch 5/100\n",
      "800/800 [==============================] - 0s 553us/step - loss: 0.4168 - accuracy: 0.8225\n",
      "Epoch 6/100\n",
      "800/800 [==============================] - 0s 551us/step - loss: 0.4124 - accuracy: 0.8256\n",
      "Epoch 7/100\n",
      "800/800 [==============================] - 0s 543us/step - loss: 0.4080 - accuracy: 0.8288\n",
      "Epoch 8/100\n",
      "800/800 [==============================] - 0s 526us/step - loss: 0.4030 - accuracy: 0.8310\n",
      "Epoch 9/100\n",
      "800/800 [==============================] - 0s 533us/step - loss: 0.3955 - accuracy: 0.8391\n",
      "Epoch 10/100\n",
      "800/800 [==============================] - 0s 511us/step - loss: 0.3847 - accuracy: 0.8441\n",
      "Epoch 11/100\n",
      "800/800 [==============================] - 0s 511us/step - loss: 0.3738 - accuracy: 0.8469\n",
      "Epoch 12/100\n",
      "800/800 [==============================] - 0s 521us/step - loss: 0.3654 - accuracy: 0.8489\n",
      "Epoch 13/100\n",
      "800/800 [==============================] - 0s 514us/step - loss: 0.3587 - accuracy: 0.8518\n",
      "Epoch 14/100\n",
      "800/800 [==============================] - 0s 567us/step - loss: 0.3543 - accuracy: 0.8535\n",
      "Epoch 15/100\n",
      "800/800 [==============================] - 0s 554us/step - loss: 0.3513 - accuracy: 0.8535\n",
      "Epoch 16/100\n",
      "800/800 [==============================] - 0s 554us/step - loss: 0.3492 - accuracy: 0.8541\n",
      "Epoch 17/100\n",
      "800/800 [==============================] - 0s 567us/step - loss: 0.3470 - accuracy: 0.8565\n",
      "Epoch 18/100\n",
      "800/800 [==============================] - 0s 569us/step - loss: 0.3460 - accuracy: 0.8570\n",
      "Epoch 19/100\n",
      "800/800 [==============================] - 0s 572us/step - loss: 0.3446 - accuracy: 0.8585\n",
      "Epoch 20/100\n",
      "800/800 [==============================] - 0s 532us/step - loss: 0.3436 - accuracy: 0.8585\n",
      "Epoch 21/100\n",
      "800/800 [==============================] - 0s 540us/step - loss: 0.3429 - accuracy: 0.8589\n",
      "Epoch 22/100\n",
      "800/800 [==============================] - 0s 523us/step - loss: 0.3417 - accuracy: 0.8600\n",
      "Epoch 23/100\n",
      "800/800 [==============================] - 0s 503us/step - loss: 0.3410 - accuracy: 0.8589\n",
      "Epoch 24/100\n",
      "800/800 [==============================] - 0s 519us/step - loss: 0.3408 - accuracy: 0.8587\n",
      "Epoch 25/100\n",
      "800/800 [==============================] - 0s 562us/step - loss: 0.3404 - accuracy: 0.8609\n",
      "Epoch 26/100\n",
      "800/800 [==============================] - 0s 552us/step - loss: 0.3396 - accuracy: 0.8604\n",
      "Epoch 27/100\n",
      "800/800 [==============================] - 0s 549us/step - loss: 0.3388 - accuracy: 0.8602\n",
      "Epoch 28/100\n",
      "800/800 [==============================] - 0s 507us/step - loss: 0.3382 - accuracy: 0.8612\n",
      "Epoch 29/100\n",
      "800/800 [==============================] - 0s 521us/step - loss: 0.3381 - accuracy: 0.8618\n",
      "Epoch 30/100\n",
      "800/800 [==============================] - 0s 514us/step - loss: 0.3373 - accuracy: 0.8620\n",
      "Epoch 31/100\n",
      "800/800 [==============================] - 0s 529us/step - loss: 0.3370 - accuracy: 0.8629\n",
      "Epoch 32/100\n",
      "800/800 [==============================] - 0s 556us/step - loss: 0.3372 - accuracy: 0.8629\n",
      "Epoch 33/100\n",
      "800/800 [==============================] - 0s 532us/step - loss: 0.3363 - accuracy: 0.8639\n",
      "Epoch 34/100\n",
      "800/800 [==============================] - 0s 552us/step - loss: 0.3356 - accuracy: 0.8641\n",
      "Epoch 35/100\n",
      "800/800 [==============================] - 0s 560us/step - loss: 0.3356 - accuracy: 0.8652\n",
      "Epoch 36/100\n",
      "800/800 [==============================] - 0s 515us/step - loss: 0.3348 - accuracy: 0.8631\n",
      "Epoch 37/100\n",
      "800/800 [==============================] - 0s 516us/step - loss: 0.3347 - accuracy: 0.8649\n",
      "Epoch 38/100\n",
      "800/800 [==============================] - 0s 515us/step - loss: 0.3348 - accuracy: 0.8651\n",
      "Epoch 39/100\n",
      "800/800 [==============================] - 0s 531us/step - loss: 0.3349 - accuracy: 0.86360s - loss: 0.3376 - accuracy: \n",
      "Epoch 40/100\n",
      "800/800 [==============================] - 0s 553us/step - loss: 0.3342 - accuracy: 0.8652\n",
      "Epoch 41/100\n",
      "800/800 [==============================] - 0s 551us/step - loss: 0.3340 - accuracy: 0.8631\n",
      "Epoch 42/100\n",
      "800/800 [==============================] - 0s 537us/step - loss: 0.3347 - accuracy: 0.8654\n",
      "Epoch 43/100\n",
      "800/800 [==============================] - 0s 553us/step - loss: 0.3338 - accuracy: 0.8646\n",
      "Epoch 44/100\n",
      "800/800 [==============================] - 0s 542us/step - loss: 0.3337 - accuracy: 0.8649\n",
      "Epoch 45/100\n",
      "800/800 [==============================] - 0s 531us/step - loss: 0.3339 - accuracy: 0.8637\n",
      "Epoch 46/100\n",
      "800/800 [==============================] - 0s 515us/step - loss: 0.3339 - accuracy: 0.8645\n",
      "Epoch 47/100\n",
      "800/800 [==============================] - 0s 523us/step - loss: 0.3336 - accuracy: 0.8641\n",
      "Epoch 48/100\n",
      "800/800 [==============================] - 0s 594us/step - loss: 0.3338 - accuracy: 0.8633\n",
      "Epoch 49/100\n",
      "800/800 [==============================] - 0s 561us/step - loss: 0.3340 - accuracy: 0.8631\n",
      "Epoch 50/100\n",
      "800/800 [==============================] - 0s 549us/step - loss: 0.3336 - accuracy: 0.8645\n",
      "Epoch 51/100\n",
      "800/800 [==============================] - 0s 556us/step - loss: 0.3339 - accuracy: 0.8645\n",
      "Epoch 52/100\n",
      "800/800 [==============================] - 0s 547us/step - loss: 0.3337 - accuracy: 0.8651\n",
      "Epoch 53/100\n",
      "800/800 [==============================] - 0s 506us/step - loss: 0.3331 - accuracy: 0.8650\n",
      "Epoch 54/100\n",
      "800/800 [==============================] - 0s 550us/step - loss: 0.3333 - accuracy: 0.8643\n",
      "Epoch 55/100\n",
      "800/800 [==============================] - 0s 521us/step - loss: 0.3327 - accuracy: 0.8651\n",
      "Epoch 56/100\n",
      "800/800 [==============================] - 0s 517us/step - loss: 0.3323 - accuracy: 0.8633\n",
      "Epoch 57/100\n",
      "800/800 [==============================] - 0s 555us/step - loss: 0.3333 - accuracy: 0.8636\n",
      "Epoch 58/100\n",
      "800/800 [==============================] - 0s 547us/step - loss: 0.3324 - accuracy: 0.8650\n",
      "Epoch 59/100\n",
      "800/800 [==============================] - 0s 554us/step - loss: 0.3326 - accuracy: 0.8645\n",
      "Epoch 60/100\n",
      "800/800 [==============================] - 0s 530us/step - loss: 0.3328 - accuracy: 0.8645\n",
      "Epoch 61/100\n",
      "800/800 [==============================] - 0s 530us/step - loss: 0.3324 - accuracy: 0.8640\n",
      "Epoch 62/100\n",
      "800/800 [==============================] - 0s 539us/step - loss: 0.3324 - accuracy: 0.8625\n",
      "Epoch 63/100\n",
      "800/800 [==============================] - 0s 543us/step - loss: 0.3323 - accuracy: 0.8627\n",
      "Epoch 64/100\n",
      "800/800 [==============================] - 0s 534us/step - loss: 0.3317 - accuracy: 0.8640\n",
      "Epoch 65/100\n",
      "800/800 [==============================] - 0s 545us/step - loss: 0.3322 - accuracy: 0.8636\n",
      "Epoch 66/100\n",
      "800/800 [==============================] - 0s 543us/step - loss: 0.3317 - accuracy: 0.8629\n",
      "Epoch 67/100\n",
      "800/800 [==============================] - 0s 556us/step - loss: 0.3323 - accuracy: 0.8640\n",
      "Epoch 68/100\n",
      "800/800 [==============================] - 0s 539us/step - loss: 0.3321 - accuracy: 0.8640\n",
      "Epoch 69/100\n",
      "800/800 [==============================] - 0s 537us/step - loss: 0.3320 - accuracy: 0.8643\n",
      "Epoch 70/100\n",
      "800/800 [==============================] - 0s 548us/step - loss: 0.3316 - accuracy: 0.8661\n",
      "Epoch 71/100\n",
      "800/800 [==============================] - 0s 547us/step - loss: 0.3318 - accuracy: 0.8621\n",
      "Epoch 72/100\n",
      "800/800 [==============================] - 0s 546us/step - loss: 0.3320 - accuracy: 0.8648\n",
      "Epoch 73/100\n",
      "800/800 [==============================] - 0s 539us/step - loss: 0.3307 - accuracy: 0.8634\n",
      "Epoch 74/100\n",
      "800/800 [==============================] - 0s 540us/step - loss: 0.3320 - accuracy: 0.8637\n",
      "Epoch 75/100\n",
      "800/800 [==============================] - 0s 542us/step - loss: 0.3313 - accuracy: 0.8627\n",
      "Epoch 76/100\n",
      "800/800 [==============================] - 0s 546us/step - loss: 0.3309 - accuracy: 0.8626\n",
      "Epoch 77/100\n",
      "800/800 [==============================] - 0s 543us/step - loss: 0.3311 - accuracy: 0.8644\n",
      "Epoch 78/100\n",
      "800/800 [==============================] - 0s 550us/step - loss: 0.3310 - accuracy: 0.86590s - loss: 0.3327 - accuracy: \n",
      "Epoch 79/100\n"
     ]
    },
    {
     "name": "stdout",
     "output_type": "stream",
     "text": [
      "800/800 [==============================] - 0s 545us/step - loss: 0.3313 - accuracy: 0.8629\n",
      "Epoch 80/100\n",
      "800/800 [==============================] - 0s 544us/step - loss: 0.3316 - accuracy: 0.8644\n",
      "Epoch 81/100\n",
      "800/800 [==============================] - 0s 539us/step - loss: 0.3313 - accuracy: 0.8637\n",
      "Epoch 82/100\n",
      "800/800 [==============================] - 0s 537us/step - loss: 0.3304 - accuracy: 0.8643\n",
      "Epoch 83/100\n",
      "800/800 [==============================] - 0s 537us/step - loss: 0.3312 - accuracy: 0.8630\n",
      "Epoch 84/100\n",
      "800/800 [==============================] - 0s 547us/step - loss: 0.3311 - accuracy: 0.8636\n",
      "Epoch 85/100\n",
      "800/800 [==============================] - 0s 518us/step - loss: 0.3310 - accuracy: 0.8640\n",
      "Epoch 86/100\n",
      "800/800 [==============================] - 0s 508us/step - loss: 0.3309 - accuracy: 0.8615\n",
      "Epoch 87/100\n",
      "800/800 [==============================] - 0s 556us/step - loss: 0.3312 - accuracy: 0.8612\n",
      "Epoch 88/100\n",
      "800/800 [==============================] - 0s 508us/step - loss: 0.3307 - accuracy: 0.8629\n",
      "Epoch 89/100\n",
      "800/800 [==============================] - 0s 548us/step - loss: 0.3313 - accuracy: 0.8626\n",
      "Epoch 90/100\n",
      "800/800 [==============================] - 0s 552us/step - loss: 0.3308 - accuracy: 0.8636\n",
      "Epoch 91/100\n",
      "800/800 [==============================] - 0s 548us/step - loss: 0.3311 - accuracy: 0.8635\n",
      "Epoch 92/100\n",
      "800/800 [==============================] - 0s 531us/step - loss: 0.3309 - accuracy: 0.8619\n",
      "Epoch 93/100\n",
      "800/800 [==============================] - 0s 509us/step - loss: 0.3304 - accuracy: 0.8650\n",
      "Epoch 94/100\n",
      "800/800 [==============================] - 0s 548us/step - loss: 0.3302 - accuracy: 0.8631\n",
      "Epoch 95/100\n",
      "800/800 [==============================] - 0s 550us/step - loss: 0.3307 - accuracy: 0.8627\n",
      "Epoch 96/100\n",
      "800/800 [==============================] - 0s 545us/step - loss: 0.3307 - accuracy: 0.8630\n",
      "Epoch 97/100\n",
      "800/800 [==============================] - 0s 528us/step - loss: 0.3310 - accuracy: 0.8625\n",
      "Epoch 98/100\n",
      "800/800 [==============================] - 0s 547us/step - loss: 0.3308 - accuracy: 0.8639\n",
      "Epoch 99/100\n",
      "800/800 [==============================] - 0s 548us/step - loss: 0.3305 - accuracy: 0.8649\n",
      "Epoch 100/100\n",
      "800/800 [==============================] - 0s 505us/step - loss: 0.3307 - accuracy: 0.8634\n"
     ]
    },
    {
     "data": {
      "text/plain": [
       "<tensorflow.python.keras.callbacks.History at 0x7f6f9c778d30>"
      ]
     },
     "execution_count": 49,
     "metadata": {},
     "output_type": "execute_result"
    }
   ],
   "source": [
    "classifier.fit(X_train,Y_train,batch_size=10,epochs=100)"
   ]
  },
  {
   "cell_type": "markdown",
   "id": "48da0a10",
   "metadata": {},
   "source": [
    "#### Predicting the Test set results"
   ]
  },
  {
   "cell_type": "code",
   "execution_count": 54,
   "id": "0f1f355f",
   "metadata": {},
   "outputs": [],
   "source": [
    "Y_pred=classifier.predict(X_test)\n",
    "Y_pred=(Y_pred>0.5)"
   ]
  },
  {
   "cell_type": "markdown",
   "id": "837517fb",
   "metadata": {},
   "source": [
    "### Predicting the result of a single observation"
   ]
  },
  {
   "cell_type": "markdown",
   "id": "092c67ee",
   "metadata": {},
   "source": [
    "**Homework**\n",
    "\n",
    "Use our ANN model to predict if the customer with the following informations will leave the bank: \n",
    "\n",
    "Geography: France\n",
    "\n",
    "Credit Score: 600\n",
    "\n",
    "Gender: Male\n",
    "\n",
    "Age: 40 years old\n",
    "\n",
    "Tenure: 3 years\n",
    "\n",
    "Balance: \\$ 60000\n",
    "\n",
    "Number of Products: 2\n",
    "\n",
    "Does this customer have a credit card ? Yes\n",
    "\n",
    "Is this customer an Active Member: Yes\n",
    "\n",
    "Estimated Salary: \\$ 50000\n",
    "\n",
    "So, should we say goodbye to that customer ?"
   ]
  },
  {
   "cell_type": "code",
   "execution_count": 59,
   "id": "7f757f34",
   "metadata": {},
   "outputs": [
    {
     "data": {
      "text/plain": [
       "array([[False]])"
      ]
     },
     "execution_count": 59,
     "metadata": {},
     "output_type": "execute_result"
    }
   ],
   "source": [
    "new_prediction=classifier.predict(sc.transform([[1, 0, 0, 600, 1, 40, 3, 60000, 2, 1, 1, 50000]]))\n",
    "new_prediction=(new_prediction>0.5)\n",
    "new_prediction"
   ]
  },
  {
   "cell_type": "markdown",
   "id": "06ad023c",
   "metadata": {},
   "source": [
    "#### Making the Confusion Matrix"
   ]
  },
  {
   "cell_type": "code",
   "execution_count": 52,
   "id": "a2946917",
   "metadata": {},
   "outputs": [],
   "source": [
    "from sklearn.metrics import confusion_matrix\n",
    "cm=confusion_matrix(Y_test,Y_pred) "
   ]
  },
  {
   "cell_type": "code",
   "execution_count": 53,
   "id": "8d624270",
   "metadata": {},
   "outputs": [
    {
     "data": {
      "text/plain": [
       "array([[1507,   88],\n",
       "       [ 188,  217]])"
      ]
     },
     "execution_count": 53,
     "metadata": {},
     "output_type": "execute_result"
    }
   ],
   "source": [
    "cm"
   ]
  },
  {
   "cell_type": "code",
   "execution_count": null,
   "id": "2cb6975d",
   "metadata": {},
   "outputs": [],
   "source": []
  }
 ],
 "metadata": {
  "kernelspec": {
   "display_name": "Python 3",
   "language": "python",
   "name": "python3"
  },
  "language_info": {
   "codemirror_mode": {
    "name": "ipython",
    "version": 3
   },
   "file_extension": ".py",
   "mimetype": "text/x-python",
   "name": "python",
   "nbconvert_exporter": "python",
   "pygments_lexer": "ipython3",
   "version": "3.8.10"
  }
 },
 "nbformat": 4,
 "nbformat_minor": 5
}
